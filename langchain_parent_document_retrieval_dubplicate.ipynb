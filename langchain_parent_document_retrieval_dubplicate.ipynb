{
  "cells": [
    {
      "cell_type": "markdown",
      "metadata": {
        "id": "O8jnQCR2b5n-"
      },
      "source": [
        "# Parent Document Retrieval Using MongoDB and LangChain\n",
        "\n",
        "This notebook shows you how to implement parent document retrieval in your RAG application using MongoDB's LangChain integration."
      ]
    },
    {
      "cell_type": "markdown",
      "metadata": {
        "id": "zkYoaL_Tb5n-"
      },
      "source": [
        "## Step 1: Install required libraries\n",
        "\n",
        "- **datasets**: Python package to download datasets from Hugging Face\n",
        "\n",
        "- **pymongo**: Python driver for MongoDB\n",
        "\n",
        "- **langchain**: Python package for LangChain's core modules\n",
        "\n",
        "- **langchain-openai**: Python package to use OpenAI models via LangChain\n",
        "\n",
        "- **langgraph**: Python package to orchestrate LLM workflows as graphs\n",
        "\n",
        "- **langchain-mongodb**: Python package to use MongoDB features in LangChain\n",
        "\n",
        "- **langchain-openai**: Python package to use OpenAI models via LangChain"
      ]
    },
    {
      "cell_type": "code",
      "execution_count": null,
      "metadata": {
        "id": "_DuSBdYHb5n_",
        "outputId": "34553302-e7ad-4dc7-f78e-63d31e788bd1",
        "colab": {
          "base_uri": "https://localhost:8080/"
        }
      },
      "outputs": [
        {
          "output_type": "stream",
          "name": "stdout",
          "text": [
            "\u001b[?25l   \u001b[90m━━━━━━━━━━━━━━━━━━━━━━━━━━━━━━━━━━━━━━━━\u001b[0m \u001b[32m0.0/480.6 kB\u001b[0m \u001b[31m?\u001b[0m eta \u001b[36m-:--:--\u001b[0m\r\u001b[2K   \u001b[90m━━━━━━━━━━━━━━━━━━━━━━━━━━━━━━━━━━━━━━━━\u001b[0m \u001b[32m480.6/480.6 kB\u001b[0m \u001b[31m14.9 MB/s\u001b[0m eta \u001b[36m0:00:00\u001b[0m\n",
            "\u001b[?25h\u001b[?25l   \u001b[90m━━━━━━━━━━━━━━━━━━━━━━━━━━━━━━━━━━━━━━━━\u001b[0m \u001b[32m0.0/1.0 MB\u001b[0m \u001b[31m?\u001b[0m eta \u001b[36m-:--:--\u001b[0m\r\u001b[2K   \u001b[90m━━━━━━━━━━━━━━━━━━━━━━━━━━━━━━━━━━━━━━━━\u001b[0m \u001b[32m1.0/1.0 MB\u001b[0m \u001b[31m50.0 MB/s\u001b[0m eta \u001b[36m0:00:00\u001b[0m\n",
            "\u001b[?25h\u001b[?25l   \u001b[90m━━━━━━━━━━━━━━━━━━━━━━━━━━━━━━━━━━━━━━━━\u001b[0m \u001b[32m0.0/137.2 kB\u001b[0m \u001b[31m?\u001b[0m eta \u001b[36m-:--:--\u001b[0m\r\u001b[2K   \u001b[90m━━━━━━━━━━━━━━━━━━━━━━━━━━━━━━━━━━━━━━━━\u001b[0m \u001b[32m137.2/137.2 kB\u001b[0m \u001b[31m10.7 MB/s\u001b[0m eta \u001b[36m0:00:00\u001b[0m\n",
            "\u001b[?25h\u001b[?25l   \u001b[90m━━━━━━━━━━━━━━━━━━━━━━━━━━━━━━━━━━━━━━━━\u001b[0m \u001b[32m0.0/50.9 kB\u001b[0m \u001b[31m?\u001b[0m eta \u001b[36m-:--:--\u001b[0m\r\u001b[2K   \u001b[90m━━━━━━━━━━━━━━━━━━━━━━━━━━━━━━━━━━━━━━━━\u001b[0m \u001b[32m50.9/50.9 kB\u001b[0m \u001b[31m4.7 MB/s\u001b[0m eta \u001b[36m0:00:00\u001b[0m\n",
            "\u001b[?25h\u001b[?25l   \u001b[90m━━━━━━━━━━━━━━━━━━━━━━━━━━━━━━━━━━━━━━━━\u001b[0m \u001b[32m0.0/116.3 kB\u001b[0m \u001b[31m?\u001b[0m eta \u001b[36m-:--:--\u001b[0m\r\u001b[2K   \u001b[90m━━━━━━━━━━━━━━━━━━━━━━━━━━━━━━━━━━━━━━━━\u001b[0m \u001b[32m116.3/116.3 kB\u001b[0m \u001b[31m11.7 MB/s\u001b[0m eta \u001b[36m0:00:00\u001b[0m\n",
            "\u001b[?25h\u001b[?25l   \u001b[90m━━━━━━━━━━━━━━━━━━━━━━━━━━━━━━━━━━━━━━━━\u001b[0m \u001b[32m0.0/313.6 kB\u001b[0m \u001b[31m?\u001b[0m eta \u001b[36m-:--:--\u001b[0m\r\u001b[2K   \u001b[90m━━━━━━━━━━━━━━━━━━━━━━━━━━━━━━━━━━━━━━━━\u001b[0m \u001b[32m313.6/313.6 kB\u001b[0m \u001b[31m23.0 MB/s\u001b[0m eta \u001b[36m0:00:00\u001b[0m\n",
            "\u001b[2K   \u001b[90m━━━━━━━━━━━━━━━━━━━━━━━━━━━━━━━━━━━━━━━━\u001b[0m \u001b[32m179.3/179.3 kB\u001b[0m \u001b[31m12.1 MB/s\u001b[0m eta \u001b[36m0:00:00\u001b[0m\n",
            "\u001b[2K   \u001b[90m━━━━━━━━━━━━━━━━━━━━━━━━━━━━━━━━━━━━━━━━\u001b[0m \u001b[32m411.6/411.6 kB\u001b[0m \u001b[31m16.3 MB/s\u001b[0m eta \u001b[36m0:00:00\u001b[0m\n",
            "\u001b[2K   \u001b[90m━━━━━━━━━━━━━━━━━━━━━━━━━━━━━━━━━━━━━━━━\u001b[0m \u001b[32m43.7/43.7 kB\u001b[0m \u001b[31m3.7 MB/s\u001b[0m eta \u001b[36m0:00:00\u001b[0m\n",
            "\u001b[2K   \u001b[90m━━━━━━━━━━━━━━━━━━━━━━━━━━━━━━━━━━━━━━━━\u001b[0m \u001b[32m74.8/74.8 kB\u001b[0m \u001b[31m4.3 MB/s\u001b[0m eta \u001b[36m0:00:00\u001b[0m\n",
            "\u001b[2K   \u001b[90m━━━━━━━━━━━━━━━━━━━━━━━━━━━━━━━━━━━━━━━━\u001b[0m \u001b[32m1.4/1.4 MB\u001b[0m \u001b[31m46.6 MB/s\u001b[0m eta \u001b[36m0:00:00\u001b[0m\n",
            "\u001b[2K   \u001b[90m━━━━━━━━━━━━━━━━━━━━━━━━━━━━━━━━━━━━━━━━\u001b[0m \u001b[32m134.8/134.8 kB\u001b[0m \u001b[31m12.3 MB/s\u001b[0m eta \u001b[36m0:00:00\u001b[0m\n",
            "\u001b[2K   \u001b[90m━━━━━━━━━━━━━━━━━━━━━━━━━━━━━━━━━━━━━━━━\u001b[0m \u001b[32m454.8/454.8 kB\u001b[0m \u001b[31m23.4 MB/s\u001b[0m eta \u001b[36m0:00:00\u001b[0m\n",
            "\u001b[2K   \u001b[90m━━━━━━━━━━━━━━━━━━━━━━━━━━━━━━━━━━━━━━━━\u001b[0m \u001b[32m1.2/1.2 MB\u001b[0m \u001b[31m48.8 MB/s\u001b[0m eta \u001b[36m0:00:00\u001b[0m\n",
            "\u001b[2K   \u001b[90m━━━━━━━━━━━━━━━━━━━━━━━━━━━━━━━━━━━━━━━━\u001b[0m \u001b[32m194.1/194.1 kB\u001b[0m \u001b[31m14.3 MB/s\u001b[0m eta \u001b[36m0:00:00\u001b[0m\n",
            "\u001b[?25h\u001b[31mERROR: pip's dependency resolver does not currently take into account all the packages that are installed. This behaviour is the source of the following dependency conflicts.\n",
            "gcsfs 2024.10.0 requires fsspec==2024.10.0, but you have fsspec 2024.9.0 which is incompatible.\u001b[0m\u001b[31m\n",
            "\u001b[0m"
          ]
        }
      ],
      "source": [
        "! pip install -qU datasets pymongo langchain langgraph langchain-mongodb langchain-openai"
      ]
    },
    {
      "cell_type": "markdown",
      "metadata": {
        "id": "--0g0srcb5n_"
      },
      "source": [
        "## Step 2: Setup prerequisites\n",
        "\n",
        "- **Set the MongoDB connection string**: Follow the steps [here](https://www.mongodb.com/docs/manual/reference/connection-string/) to get the connection string from the Atlas UI.\n",
        "\n",
        "- **Set the OpenAI API key**: Steps to obtain an API key are [here](https://help.openai.com/en/articles/4936850-where-do-i-find-my-openai-api-key)\n",
        "\n",
        "- **Set the Hugging Face token**: Steps to create a token are [here](https://huggingface.co/docs/hub/en/security-tokens#how-to-manage-user-access-tokens). You only need **read** token for this tutorial."
      ]
    },
    {
      "cell_type": "code",
      "execution_count": null,
      "metadata": {
        "id": "zrFC4NrTb5n_"
      },
      "outputs": [],
      "source": [
        "import getpass\n",
        "import os\n",
        "\n",
        "from pymongo import MongoClient"
      ]
    },
    {
      "cell_type": "code",
      "execution_count": null,
      "metadata": {
        "id": "5JCEgPEPb5n_",
        "outputId": "0c87224e-df14-41b6-a91c-d59c090be2c2",
        "colab": {
          "base_uri": "https://localhost:8080/"
        }
      },
      "outputs": [
        {
          "name": "stdout",
          "output_type": "stream",
          "text": [
            "Enter your OpenAI API Key:··········\n"
          ]
        }
      ],
      "source": [
        "os.environ[\"OPENAI_API_KEY\"] = getpass.getpass(\"Enter your OpenAI API Key:\")"
      ]
    },
    {
      "cell_type": "code",
      "execution_count": null,
      "metadata": {
        "id": "2eXqUop-b5oA",
        "outputId": "6920364a-5dfe-4faf-f15d-40cd2b1bad5f",
        "colab": {
          "base_uri": "https://localhost:8080/"
        }
      },
      "outputs": [
        {
          "name": "stdout",
          "output_type": "stream",
          "text": [
            "Enter your MongoDB connection string:··········\n"
          ]
        },
        {
          "output_type": "execute_result",
          "data": {
            "text/plain": [
              "{'ok': 1}"
            ]
          },
          "metadata": {},
          "execution_count": 65
        }
      ],
      "source": [
        "MONGODB_URI = getpass.getpass(\"Enter your MongoDB connection string:\")\n",
        "mongodb_client = MongoClient(\n",
        "    MONGODB_URI, appname=\"devrel.showcase.parent_doc_retrieval\"\n",
        ")\n",
        "mongodb_client.admin.command(\"ping\")"
      ]
    },
    {
      "cell_type": "code",
      "execution_count": null,
      "metadata": {
        "id": "JO1U4vUHb5oA",
        "outputId": "c31d0291-6a02-40eb-f394-fc529e283f5c",
        "colab": {
          "base_uri": "https://localhost:8080/"
        }
      },
      "outputs": [
        {
          "name": "stdout",
          "output_type": "stream",
          "text": [
            "Enter your HF Access Token:··········\n"
          ]
        }
      ],
      "source": [
        "os.environ[\"HF_TOKEN\"] = getpass.getpass(\"Enter your HF Access Token:\")"
      ]
    },
    {
      "cell_type": "markdown",
      "metadata": {
        "id": "NBqcovP2b5oA"
      },
      "source": [
        "## Step 3: Load the dataset"
      ]
    },
    {
      "cell_type": "code",
      "execution_count": null,
      "metadata": {
        "id": "FjhZgKW8b5oA"
      },
      "outputs": [],
      "source": [
        "import pandas as pd\n",
        "from datasets import load_dataset"
      ]
    },
    {
      "cell_type": "code",
      "execution_count": null,
      "metadata": {
        "id": "Wx4MzJg8b5oA"
      },
      "outputs": [],
      "source": [
        "from datasets import load_dataset\n",
        "import pandas as pd\n",
        "\n",
        "data = load_dataset(\"mongodb-eai/docs\", streaming=True, split=\"train\")\n",
        "data_head = data.take(500)\n",
        "df = pd.DataFrame(data_head)"
      ]
    },
    {
      "cell_type": "code",
      "execution_count": null,
      "metadata": {
        "id": "Sla6oqRdb5oB",
        "outputId": "91baa515-343b-4365-bac7-ddbf3499b9f7",
        "colab": {
          "base_uri": "https://localhost:8080/",
          "height": 293
        }
      },
      "outputs": [
        {
          "output_type": "execute_result",
          "data": {
            "text/plain": [
              "                                    _id         sourceName  \\\n",
              "0  {'$oid': '664b88c96e4f895074208162'}  snooty-cloud-docs   \n",
              "1  {'$oid': '664b88c96e4f895074208178'}  snooty-cloud-docs   \n",
              "2  {'$oid': '664b88c96e4f895074208183'}  snooty-cloud-docs   \n",
              "3  {'$oid': '664b88c96e4f89507420818f'}  snooty-cloud-docs   \n",
              "4  {'$oid': '664b88c96e4f89507420819d'}  snooty-cloud-docs   \n",
              "\n",
              "                                                 url   action  \\\n",
              "0    https://mongodb.com/docs/atlas/access-tracking/  created   \n",
              "1  https://mongodb.com/docs/atlas/access/manage-t...  created   \n",
              "2  https://mongodb.com/docs/atlas/access/orgs-cre...  created   \n",
              "3       https://mongodb.com/docs/atlas/alert-basics/  created   \n",
              "4  https://mongodb.com/docs/atlas/alert-resolutions/  created   \n",
              "\n",
              "                                                body format  \\\n",
              "0  # View Database Access History\\n\\n- This featu...     md   \n",
              "1  # Manage Organization Teams\\n\\nYou can create ...     md   \n",
              "2  # Manage Organizations\\n\\nIn the organizations...     md   \n",
              "3  # Alert Basics\\n\\nAtlas provides built-in tool...     md   \n",
              "4  # Resolve Alerts\\n\\nAtlas issues alerts for th...     md   \n",
              "\n",
              "                                            metadata  \\\n",
              "0  {'contentType': None, 'pageDescription': None,...   \n",
              "1  {'contentType': None, 'pageDescription': None,...   \n",
              "2  {'contentType': None, 'pageDescription': None,...   \n",
              "3  {'contentType': None, 'pageDescription': None,...   \n",
              "4  {'contentType': None, 'pageDescription': None,...   \n",
              "\n",
              "                          title                                updated  \n",
              "0  View Database Access History  {'$date': '2024-05-20T17:30:49.148Z'}  \n",
              "1     Manage Organization Teams  {'$date': '2024-05-20T17:30:49.148Z'}  \n",
              "2          Manage Organizations  {'$date': '2024-05-20T17:30:49.148Z'}  \n",
              "3                  Alert Basics  {'$date': '2024-05-20T17:30:49.148Z'}  \n",
              "4                Resolve Alerts  {'$date': '2024-05-20T17:30:49.148Z'}  "
            ],
            "text/html": [
              "\n",
              "  <div id=\"df-be6c0e7a-19a5-4636-9ced-446c682f7d98\" class=\"colab-df-container\">\n",
              "    <div>\n",
              "<style scoped>\n",
              "    .dataframe tbody tr th:only-of-type {\n",
              "        vertical-align: middle;\n",
              "    }\n",
              "\n",
              "    .dataframe tbody tr th {\n",
              "        vertical-align: top;\n",
              "    }\n",
              "\n",
              "    .dataframe thead th {\n",
              "        text-align: right;\n",
              "    }\n",
              "</style>\n",
              "<table border=\"1\" class=\"dataframe\">\n",
              "  <thead>\n",
              "    <tr style=\"text-align: right;\">\n",
              "      <th></th>\n",
              "      <th>_id</th>\n",
              "      <th>sourceName</th>\n",
              "      <th>url</th>\n",
              "      <th>action</th>\n",
              "      <th>body</th>\n",
              "      <th>format</th>\n",
              "      <th>metadata</th>\n",
              "      <th>title</th>\n",
              "      <th>updated</th>\n",
              "    </tr>\n",
              "  </thead>\n",
              "  <tbody>\n",
              "    <tr>\n",
              "      <th>0</th>\n",
              "      <td>{'$oid': '664b88c96e4f895074208162'}</td>\n",
              "      <td>snooty-cloud-docs</td>\n",
              "      <td>https://mongodb.com/docs/atlas/access-tracking/</td>\n",
              "      <td>created</td>\n",
              "      <td># View Database Access History\\n\\n- This featu...</td>\n",
              "      <td>md</td>\n",
              "      <td>{'contentType': None, 'pageDescription': None,...</td>\n",
              "      <td>View Database Access History</td>\n",
              "      <td>{'$date': '2024-05-20T17:30:49.148Z'}</td>\n",
              "    </tr>\n",
              "    <tr>\n",
              "      <th>1</th>\n",
              "      <td>{'$oid': '664b88c96e4f895074208178'}</td>\n",
              "      <td>snooty-cloud-docs</td>\n",
              "      <td>https://mongodb.com/docs/atlas/access/manage-t...</td>\n",
              "      <td>created</td>\n",
              "      <td># Manage Organization Teams\\n\\nYou can create ...</td>\n",
              "      <td>md</td>\n",
              "      <td>{'contentType': None, 'pageDescription': None,...</td>\n",
              "      <td>Manage Organization Teams</td>\n",
              "      <td>{'$date': '2024-05-20T17:30:49.148Z'}</td>\n",
              "    </tr>\n",
              "    <tr>\n",
              "      <th>2</th>\n",
              "      <td>{'$oid': '664b88c96e4f895074208183'}</td>\n",
              "      <td>snooty-cloud-docs</td>\n",
              "      <td>https://mongodb.com/docs/atlas/access/orgs-cre...</td>\n",
              "      <td>created</td>\n",
              "      <td># Manage Organizations\\n\\nIn the organizations...</td>\n",
              "      <td>md</td>\n",
              "      <td>{'contentType': None, 'pageDescription': None,...</td>\n",
              "      <td>Manage Organizations</td>\n",
              "      <td>{'$date': '2024-05-20T17:30:49.148Z'}</td>\n",
              "    </tr>\n",
              "    <tr>\n",
              "      <th>3</th>\n",
              "      <td>{'$oid': '664b88c96e4f89507420818f'}</td>\n",
              "      <td>snooty-cloud-docs</td>\n",
              "      <td>https://mongodb.com/docs/atlas/alert-basics/</td>\n",
              "      <td>created</td>\n",
              "      <td># Alert Basics\\n\\nAtlas provides built-in tool...</td>\n",
              "      <td>md</td>\n",
              "      <td>{'contentType': None, 'pageDescription': None,...</td>\n",
              "      <td>Alert Basics</td>\n",
              "      <td>{'$date': '2024-05-20T17:30:49.148Z'}</td>\n",
              "    </tr>\n",
              "    <tr>\n",
              "      <th>4</th>\n",
              "      <td>{'$oid': '664b88c96e4f89507420819d'}</td>\n",
              "      <td>snooty-cloud-docs</td>\n",
              "      <td>https://mongodb.com/docs/atlas/alert-resolutions/</td>\n",
              "      <td>created</td>\n",
              "      <td># Resolve Alerts\\n\\nAtlas issues alerts for th...</td>\n",
              "      <td>md</td>\n",
              "      <td>{'contentType': None, 'pageDescription': None,...</td>\n",
              "      <td>Resolve Alerts</td>\n",
              "      <td>{'$date': '2024-05-20T17:30:49.148Z'}</td>\n",
              "    </tr>\n",
              "  </tbody>\n",
              "</table>\n",
              "</div>\n",
              "    <div class=\"colab-df-buttons\">\n",
              "\n",
              "  <div class=\"colab-df-container\">\n",
              "    <button class=\"colab-df-convert\" onclick=\"convertToInteractive('df-be6c0e7a-19a5-4636-9ced-446c682f7d98')\"\n",
              "            title=\"Convert this dataframe to an interactive table.\"\n",
              "            style=\"display:none;\">\n",
              "\n",
              "  <svg xmlns=\"http://www.w3.org/2000/svg\" height=\"24px\" viewBox=\"0 -960 960 960\">\n",
              "    <path d=\"M120-120v-720h720v720H120Zm60-500h600v-160H180v160Zm220 220h160v-160H400v160Zm0 220h160v-160H400v160ZM180-400h160v-160H180v160Zm440 0h160v-160H620v160ZM180-180h160v-160H180v160Zm440 0h160v-160H620v160Z\"/>\n",
              "  </svg>\n",
              "    </button>\n",
              "\n",
              "  <style>\n",
              "    .colab-df-container {\n",
              "      display:flex;\n",
              "      gap: 12px;\n",
              "    }\n",
              "\n",
              "    .colab-df-convert {\n",
              "      background-color: #E8F0FE;\n",
              "      border: none;\n",
              "      border-radius: 50%;\n",
              "      cursor: pointer;\n",
              "      display: none;\n",
              "      fill: #1967D2;\n",
              "      height: 32px;\n",
              "      padding: 0 0 0 0;\n",
              "      width: 32px;\n",
              "    }\n",
              "\n",
              "    .colab-df-convert:hover {\n",
              "      background-color: #E2EBFA;\n",
              "      box-shadow: 0px 1px 2px rgba(60, 64, 67, 0.3), 0px 1px 3px 1px rgba(60, 64, 67, 0.15);\n",
              "      fill: #174EA6;\n",
              "    }\n",
              "\n",
              "    .colab-df-buttons div {\n",
              "      margin-bottom: 4px;\n",
              "    }\n",
              "\n",
              "    [theme=dark] .colab-df-convert {\n",
              "      background-color: #3B4455;\n",
              "      fill: #D2E3FC;\n",
              "    }\n",
              "\n",
              "    [theme=dark] .colab-df-convert:hover {\n",
              "      background-color: #434B5C;\n",
              "      box-shadow: 0px 1px 3px 1px rgba(0, 0, 0, 0.15);\n",
              "      filter: drop-shadow(0px 1px 2px rgba(0, 0, 0, 0.3));\n",
              "      fill: #FFFFFF;\n",
              "    }\n",
              "  </style>\n",
              "\n",
              "    <script>\n",
              "      const buttonEl =\n",
              "        document.querySelector('#df-be6c0e7a-19a5-4636-9ced-446c682f7d98 button.colab-df-convert');\n",
              "      buttonEl.style.display =\n",
              "        google.colab.kernel.accessAllowed ? 'block' : 'none';\n",
              "\n",
              "      async function convertToInteractive(key) {\n",
              "        const element = document.querySelector('#df-be6c0e7a-19a5-4636-9ced-446c682f7d98');\n",
              "        const dataTable =\n",
              "          await google.colab.kernel.invokeFunction('convertToInteractive',\n",
              "                                                    [key], {});\n",
              "        if (!dataTable) return;\n",
              "\n",
              "        const docLinkHtml = 'Like what you see? Visit the ' +\n",
              "          '<a target=\"_blank\" href=https://colab.research.google.com/notebooks/data_table.ipynb>data table notebook</a>'\n",
              "          + ' to learn more about interactive tables.';\n",
              "        element.innerHTML = '';\n",
              "        dataTable['output_type'] = 'display_data';\n",
              "        await google.colab.output.renderOutput(dataTable, element);\n",
              "        const docLink = document.createElement('div');\n",
              "        docLink.innerHTML = docLinkHtml;\n",
              "        element.appendChild(docLink);\n",
              "      }\n",
              "    </script>\n",
              "  </div>\n",
              "\n",
              "\n",
              "<div id=\"df-93b57ba5-6be4-4823-b7a6-2d9c1cc9323d\">\n",
              "  <button class=\"colab-df-quickchart\" onclick=\"quickchart('df-93b57ba5-6be4-4823-b7a6-2d9c1cc9323d')\"\n",
              "            title=\"Suggest charts\"\n",
              "            style=\"display:none;\">\n",
              "\n",
              "<svg xmlns=\"http://www.w3.org/2000/svg\" height=\"24px\"viewBox=\"0 0 24 24\"\n",
              "     width=\"24px\">\n",
              "    <g>\n",
              "        <path d=\"M19 3H5c-1.1 0-2 .9-2 2v14c0 1.1.9 2 2 2h14c1.1 0 2-.9 2-2V5c0-1.1-.9-2-2-2zM9 17H7v-7h2v7zm4 0h-2V7h2v10zm4 0h-2v-4h2v4z\"/>\n",
              "    </g>\n",
              "</svg>\n",
              "  </button>\n",
              "\n",
              "<style>\n",
              "  .colab-df-quickchart {\n",
              "      --bg-color: #E8F0FE;\n",
              "      --fill-color: #1967D2;\n",
              "      --hover-bg-color: #E2EBFA;\n",
              "      --hover-fill-color: #174EA6;\n",
              "      --disabled-fill-color: #AAA;\n",
              "      --disabled-bg-color: #DDD;\n",
              "  }\n",
              "\n",
              "  [theme=dark] .colab-df-quickchart {\n",
              "      --bg-color: #3B4455;\n",
              "      --fill-color: #D2E3FC;\n",
              "      --hover-bg-color: #434B5C;\n",
              "      --hover-fill-color: #FFFFFF;\n",
              "      --disabled-bg-color: #3B4455;\n",
              "      --disabled-fill-color: #666;\n",
              "  }\n",
              "\n",
              "  .colab-df-quickchart {\n",
              "    background-color: var(--bg-color);\n",
              "    border: none;\n",
              "    border-radius: 50%;\n",
              "    cursor: pointer;\n",
              "    display: none;\n",
              "    fill: var(--fill-color);\n",
              "    height: 32px;\n",
              "    padding: 0;\n",
              "    width: 32px;\n",
              "  }\n",
              "\n",
              "  .colab-df-quickchart:hover {\n",
              "    background-color: var(--hover-bg-color);\n",
              "    box-shadow: 0 1px 2px rgba(60, 64, 67, 0.3), 0 1px 3px 1px rgba(60, 64, 67, 0.15);\n",
              "    fill: var(--button-hover-fill-color);\n",
              "  }\n",
              "\n",
              "  .colab-df-quickchart-complete:disabled,\n",
              "  .colab-df-quickchart-complete:disabled:hover {\n",
              "    background-color: var(--disabled-bg-color);\n",
              "    fill: var(--disabled-fill-color);\n",
              "    box-shadow: none;\n",
              "  }\n",
              "\n",
              "  .colab-df-spinner {\n",
              "    border: 2px solid var(--fill-color);\n",
              "    border-color: transparent;\n",
              "    border-bottom-color: var(--fill-color);\n",
              "    animation:\n",
              "      spin 1s steps(1) infinite;\n",
              "  }\n",
              "\n",
              "  @keyframes spin {\n",
              "    0% {\n",
              "      border-color: transparent;\n",
              "      border-bottom-color: var(--fill-color);\n",
              "      border-left-color: var(--fill-color);\n",
              "    }\n",
              "    20% {\n",
              "      border-color: transparent;\n",
              "      border-left-color: var(--fill-color);\n",
              "      border-top-color: var(--fill-color);\n",
              "    }\n",
              "    30% {\n",
              "      border-color: transparent;\n",
              "      border-left-color: var(--fill-color);\n",
              "      border-top-color: var(--fill-color);\n",
              "      border-right-color: var(--fill-color);\n",
              "    }\n",
              "    40% {\n",
              "      border-color: transparent;\n",
              "      border-right-color: var(--fill-color);\n",
              "      border-top-color: var(--fill-color);\n",
              "    }\n",
              "    60% {\n",
              "      border-color: transparent;\n",
              "      border-right-color: var(--fill-color);\n",
              "    }\n",
              "    80% {\n",
              "      border-color: transparent;\n",
              "      border-right-color: var(--fill-color);\n",
              "      border-bottom-color: var(--fill-color);\n",
              "    }\n",
              "    90% {\n",
              "      border-color: transparent;\n",
              "      border-bottom-color: var(--fill-color);\n",
              "    }\n",
              "  }\n",
              "</style>\n",
              "\n",
              "  <script>\n",
              "    async function quickchart(key) {\n",
              "      const quickchartButtonEl =\n",
              "        document.querySelector('#' + key + ' button');\n",
              "      quickchartButtonEl.disabled = true;  // To prevent multiple clicks.\n",
              "      quickchartButtonEl.classList.add('colab-df-spinner');\n",
              "      try {\n",
              "        const charts = await google.colab.kernel.invokeFunction(\n",
              "            'suggestCharts', [key], {});\n",
              "      } catch (error) {\n",
              "        console.error('Error during call to suggestCharts:', error);\n",
              "      }\n",
              "      quickchartButtonEl.classList.remove('colab-df-spinner');\n",
              "      quickchartButtonEl.classList.add('colab-df-quickchart-complete');\n",
              "    }\n",
              "    (() => {\n",
              "      let quickchartButtonEl =\n",
              "        document.querySelector('#df-93b57ba5-6be4-4823-b7a6-2d9c1cc9323d button');\n",
              "      quickchartButtonEl.style.display =\n",
              "        google.colab.kernel.accessAllowed ? 'block' : 'none';\n",
              "    })();\n",
              "  </script>\n",
              "</div>\n",
              "\n",
              "    </div>\n",
              "  </div>\n"
            ],
            "application/vnd.google.colaboratory.intrinsic+json": {
              "type": "dataframe",
              "variable_name": "df",
              "summary": "{\n  \"name\": \"df\",\n  \"rows\": 500,\n  \"fields\": [\n    {\n      \"column\": \"_id\",\n      \"properties\": {\n        \"dtype\": \"object\",\n        \"semantic_type\": \"\",\n        \"description\": \"\"\n      }\n    },\n    {\n      \"column\": \"sourceName\",\n      \"properties\": {\n        \"dtype\": \"category\",\n        \"num_unique_values\": 1,\n        \"samples\": [\n          \"snooty-cloud-docs\"\n        ],\n        \"semantic_type\": \"\",\n        \"description\": \"\"\n      }\n    },\n    {\n      \"column\": \"url\",\n      \"properties\": {\n        \"dtype\": \"string\",\n        \"num_unique_values\": 500,\n        \"samples\": [\n          \"https://mongodb.com/docs/atlas/includes/command/atlas-accessLists-describe/\"\n        ],\n        \"semantic_type\": \"\",\n        \"description\": \"\"\n      }\n    },\n    {\n      \"column\": \"action\",\n      \"properties\": {\n        \"dtype\": \"category\",\n        \"num_unique_values\": 1,\n        \"samples\": [\n          \"created\"\n        ],\n        \"semantic_type\": \"\",\n        \"description\": \"\"\n      }\n    },\n    {\n      \"column\": \"body\",\n      \"properties\": {\n        \"dtype\": \"string\",\n        \"num_unique_values\": 499,\n        \"samples\": [\n          \"# atlas clusters update\\n\\nModify the settings of the specified cluster.\\n\\nYou can specify modifications in a JSON configuration file with the --file flag.\\n\\nYou can't change the name of the cluster or downgrade the MongoDB version of your cluster.\\n\\nTo use this command, you must authenticate with a user account or an API key with the Project Cluster Manager role. Atlas supports this command only for M10+ clusters\\n\\n## Syntax\\n\\n```\\natlas clusters update [clusterName] [options]\\n```\\n\\n## Arguments\\n\\n<table>\\n<tr>\\n<th id=\\\"Name\\\">\\nName\\n\\n</th>\\n<th id=\\\"Type\\\">\\nType\\n\\n</th>\\n<th id=\\\"Required\\\">\\nRequired\\n\\n</th>\\n<th id=\\\"Description\\\">\\nDescription\\n\\n</th>\\n</tr>\\n<tr>\\n<td headers=\\\"Name\\\">\\nclusterName\\n\\n</td>\\n<td headers=\\\"Type\\\">\\nstring\\n\\n</td>\\n<td headers=\\\"Required\\\">\\nfalse\\n\\n</td>\\n<td headers=\\\"Description\\\">\\nName of the cluster to update.\\n\\n</td>\\n</tr>\\n</table>\\n\\n## Options\\n\\n<table>\\n<tr>\\n<th id=\\\"Name\\\">\\nName\\n\\n</th>\\n<th id=\\\"Type\\\">\\nType\\n\\n</th>\\n<th id=\\\"Required\\\">\\nRequired\\n\\n</th>\\n<th id=\\\"Description\\\">\\nDescription\\n\\n</th>\\n</tr>\\n<tr>\\n<td headers=\\\"Name\\\">\\n--disableTerminationProtection\\n\\n</td>\\n<td headers=\\\"Type\\\">\\n\\n</td>\\n<td headers=\\\"Required\\\">\\nfalse\\n\\n</td>\\n<td headers=\\\"Description\\\">\\nDisables termination protection for your cluster. You can delete a cluster with termination protection disabled.\\n\\nMutually exclusive with --enableTerminationProtection, --file.\\n\\n</td>\\n</tr>\\n<tr>\\n<td headers=\\\"Name\\\">\\n--diskSizeGB\\n\\n</td>\\n<td headers=\\\"Type\\\">\\nfloat\\n\\n</td>\\n<td headers=\\\"Required\\\">\\nfalse\\n\\n</td>\\n<td headers=\\\"Description\\\">\\nCapacity, in gigabytes, of the host's root volume.\\n\\nMutually exclusive with --file.\\n\\n</td>\\n</tr>\\n<tr>\\n<td headers=\\\"Name\\\">\\n--enableTerminationProtection\\n\\n</td>\\n<td headers=\\\"Type\\\">\\n\\n</td>\\n<td headers=\\\"Required\\\">\\nfalse\\n\\n</td>\\n<td headers=\\\"Description\\\">\\nEnables termination protection for your cluster. You can't delete a cluster with termination protection enabled.\\n\\nMutually exclusive with --disableTerminationProtection, --file.\\n\\n</td>\\n</tr>\\n<tr>\\n<td headers=\\\"Name\\\">\\n-f, --file\\n\\n</td>\\n<td headers=\\\"Type\\\">\\nstring\\n\\n</td>\\n<td headers=\\\"Required\\\">\\nfalse\\n\\n</td>\\n<td headers=\\\"Description\\\">\\nPath to an optional JSON configuration file that defines cluster settings. To learn more about cluster configuration files for the Atlas CLI, see https://dochub.mongodb.org/core/cluster-config-file-atlascli. To learn more about cluster configuration files for MongoCLI, see https://dochub.mongodb.org/core/mms-cluster-settings-file-mcli.\\n\\nMutually exclusive with --tier, --diskSizeGB, --enableTerminationProtection, --disableTerminationProtection, --tag.\\n\\n</td>\\n</tr>\\n<tr>\\n<td headers=\\\"Name\\\">\\n-h, --help\\n\\n</td>\\n<td headers=\\\"Type\\\">\\n\\n</td>\\n<td headers=\\\"Required\\\">\\nfalse\\n\\n</td>\\n<td headers=\\\"Description\\\">\\nhelp for update\\n\\n</td>\\n</tr>\\n<tr>\\n<td headers=\\\"Name\\\">\\n--mdbVersion\\n\\n</td>\\n<td headers=\\\"Type\\\">\\nstring\\n\\n</td>\\n<td headers=\\\"Required\\\">\\nfalse\\n\\n</td>\\n<td headers=\\\"Description\\\">\\nMajor MongoDB version of the cluster.\\n\\n</td>\\n</tr>\\n<tr>\\n<td headers=\\\"Name\\\">\\n-o, --output\\n\\n</td>\\n<td headers=\\\"Type\\\">\\nstring\\n\\n</td>\\n<td headers=\\\"Required\\\">\\nfalse\\n\\n</td>\\n<td headers=\\\"Description\\\">\\nOutput format. Valid values are json, json-path, go-template, or go-template-file. To see the full output, use the -o json option.\\n\\n</td>\\n</tr>\\n<tr>\\n<td headers=\\\"Name\\\">\\n--projectId\\n\\n</td>\\n<td headers=\\\"Type\\\">\\nstring\\n\\n</td>\\n<td headers=\\\"Required\\\">\\nfalse\\n\\n</td>\\n<td headers=\\\"Description\\\">\\nHexadecimal string that identifies the project to use. This option overrides the settings in the configuration file or environment variable.\\n\\n</td>\\n</tr>\\n<tr>\\n<td headers=\\\"Name\\\">\\n--tag\\n\\n</td>\\n<td headers=\\\"Type\\\">\\nkey=value\\n\\n</td>\\n<td headers=\\\"Required\\\">\\nfalse\\n\\n</td>\\n<td headers=\\\"Description\\\">\\nList that contains key-value pairs between 1 to 255 characters in length for tagging and categorizing the cluster. Passing this flag replaces preexisting data.\\n\\nMutually exclusive with --file.\\n\\n</td>\\n</tr>\\n<tr>\\n<td headers=\\\"Name\\\">\\n--tier\\n\\n</td>\\n<td headers=\\\"Type\\\">\\nstring\\n\\n</td>\\n<td headers=\\\"Required\\\">\\nfalse\\n\\n</td>\\n<td headers=\\\"Description\\\">\\nTier for each data-bearing server in the cluster. To learn more about cluster tiers, see https://dochub.mongodb.org/core/cluster-tier-atlas.\\n\\nMutually exclusive with --file.\\n\\n</td>\\n</tr>\\n</table>\\n\\n## Inherited Options\\n\\n<table>\\n<tr>\\n<th id=\\\"Name\\\">\\nName\\n\\n</th>\\n<th id=\\\"Type\\\">\\nType\\n\\n</th>\\n<th id=\\\"Required\\\">\\nRequired\\n\\n</th>\\n<th id=\\\"Description\\\">\\nDescription\\n\\n</th>\\n</tr>\\n<tr>\\n<td headers=\\\"Name\\\">\\n-P, --profile\\n\\n</td>\\n<td headers=\\\"Type\\\">\\nstring\\n\\n</td>\\n<td headers=\\\"Required\\\">\\nfalse\\n\\n</td>\\n<td headers=\\\"Description\\\">\\nName of the profile to use from your configuration file. To learn about profiles for the Atlas CLI, see https://dochub.mongodb.org/core/atlas-cli-save-connection-settings.\\n\\n</td>\\n</tr>\\n</table>\\n\\n## Output\\n\\nIf the command succeeds, the CLI returns output similar to the following sample. Values in brackets represent your values.\\n\\n```\\nUpdating cluster '<Name>'.\\n```\\n\\n## Examples\\n\\n```\\n# Update the tier for a cluster named myCluster for the project with ID 5e2211c17a3e5a48f5497de3:\\natlas cluster update myCluster --projectId 5e2211c17a3e5a48f5497de3 --tier M50\\n```\\n\\n```\\n# Replace tags cluster named myCluster for the project with ID 5e2211c17a3e5a48f5497de3:\\natlas cluster update myCluster --projectId 5e2211c17a3e5a48f5497de3 --tag key1=value1\\n```\\n\\n```\\n# Remove all tags from cluster named myCluster for the project with ID 5e2211c17a3e5a48f5497de3:\\natlas cluster update myCluster --projectId 5e2211c17a3e5a48f5497de3 --tag =\\n```\\n\\n```\\n# Update the disk size for a cluster named myCluster for the project with ID 5e2211c17a3e5a48f5497de3:\\natlas cluster update myCluster --projectId 5e2211c17a3e5a48f5497de3 --diskSizeGB 20\\n```\\n\\n```\\n# Update the MongoDB version for a cluster named myCluster for the project with ID 5e2211c17a3e5a48f5497de3:\\natlas cluster update myCluster --projectId 5e2211c17a3e5a48f5497de3 --mdbVersion 5.0\\n```\\n\\n```\\n# Use a configuration file named cluster-config.json to update a cluster named myCluster for the project with ID 5e2211c17a3e5a48f5497de3:\\natlas cluster update myCluster --projectId 5e2211c17a3e5a48f5497de3 --file cluster-config.json --output json\\n```\\n\\n\"\n        ],\n        \"semantic_type\": \"\",\n        \"description\": \"\"\n      }\n    },\n    {\n      \"column\": \"format\",\n      \"properties\": {\n        \"dtype\": \"category\",\n        \"num_unique_values\": 1,\n        \"samples\": [\n          \"md\"\n        ],\n        \"semantic_type\": \"\",\n        \"description\": \"\"\n      }\n    },\n    {\n      \"column\": \"metadata\",\n      \"properties\": {\n        \"dtype\": \"object\",\n        \"semantic_type\": \"\",\n        \"description\": \"\"\n      }\n    },\n    {\n      \"column\": \"title\",\n      \"properties\": {\n        \"dtype\": \"string\",\n        \"num_unique_values\": 487,\n        \"samples\": [\n          \"knnBeta\"\n        ],\n        \"semantic_type\": \"\",\n        \"description\": \"\"\n      }\n    },\n    {\n      \"column\": \"updated\",\n      \"properties\": {\n        \"dtype\": \"object\",\n        \"semantic_type\": \"\",\n        \"description\": \"\"\n      }\n    }\n  ]\n}"
            }
          },
          "metadata": {},
          "execution_count": 90
        }
      ],
      "source": [
        "df.head()"
      ]
    },
    {
      "cell_type": "markdown",
      "metadata": {
        "id": "swlumg9kb5oB"
      },
      "source": [
        "## Step 4: Convert dataset to LangChain Documents"
      ]
    },
    {
      "cell_type": "code",
      "execution_count": null,
      "metadata": {
        "id": "9Z9WnO5cb5oB"
      },
      "outputs": [],
      "source": [
        "from langchain_core.documents import Document"
      ]
    },
    {
      "cell_type": "code",
      "execution_count": null,
      "metadata": {
        "id": "-0MNUxqXb5oB"
      },
      "outputs": [],
      "source": [
        "docs = []\n",
        "metadata_fields = [\"updated\", \"url\", \"title\"]\n",
        "for _, row in df.iterrows():\n",
        "    content = row[\"body\"]\n",
        "    metadata = row[\"metadata\"]\n",
        "    for field in metadata_fields:\n",
        "        metadata[field] = row[field]\n",
        "    docs.append(Document(page_content=content, metadata=metadata))"
      ]
    },
    {
      "cell_type": "code",
      "execution_count": null,
      "metadata": {
        "id": "8U57Zur5b5oB",
        "outputId": "9843c231-ccc3-420c-8607-54512b996e2e",
        "colab": {
          "base_uri": "https://localhost:8080/"
        }
      },
      "outputs": [
        {
          "output_type": "execute_result",
          "data": {
            "text/plain": [
              "Document(metadata={'contentType': None, 'pageDescription': None, 'productName': 'MongoDB Atlas', 'tags': ['atlas', 'docs'], 'version': None, 'updated': {'$date': '2024-05-20T17:30:49.148Z'}, 'url': 'https://mongodb.com/docs/atlas/access-tracking/', 'title': 'View Database Access History'}, page_content='# View Database Access History\\n\\n- This feature is not available for `M0` free clusters, `M2`, and `M5` clusters. To learn more, see Atlas M0 (Free Cluster), M2, and M5 Limits.\\n\\n- This feature is not supported on Serverless instances at this time. To learn more, see Serverless Instance Limitations.\\n\\n## Overview\\n\\nAtlas parses the MongoDB database logs to collect a list of authentication requests made against your clusters through the following methods:\\n\\n- `mongosh`\\n\\n- Compass\\n\\n- Drivers\\n\\nAuthentication requests made with API Keys through the Atlas Administration API are not logged.\\n\\nAtlas logs the following information for each authentication request within the last 7 days:\\n\\n<table>\\n<tr>\\n<th id=\"Field\">\\nField\\n\\n</th>\\n<th id=\"Description\">\\nDescription\\n\\n</th>\\n</tr>\\n<tr>\\n<td headers=\"Field\">\\nTimestamp\\n\\n</td>\\n<td headers=\"Description\">\\nThe date and time of the authentication request.\\n\\n</td>\\n</tr>\\n<tr>\\n<td headers=\"Field\">\\nUsername\\n\\n</td>\\n<td headers=\"Description\">\\nThe username associated with the database user who made the authentication request.\\n\\nFor LDAP usernames, the UI displays the resolved LDAP name. Hover over the name to see the full LDAP username.\\n\\n</td>\\n</tr>\\n<tr>\\n<td headers=\"Field\">\\nIP Address\\n\\n</td>\\n<td headers=\"Description\">\\nThe IP address of the machine that sent the authentication request.\\n\\n</td>\\n</tr>\\n<tr>\\n<td headers=\"Field\">\\nHost\\n\\n</td>\\n<td headers=\"Description\">\\nThe target server that processed the authentication request.\\n\\n</td>\\n</tr>\\n<tr>\\n<td headers=\"Field\">\\nAuthentication Source\\n\\n</td>\\n<td headers=\"Description\">\\nThe database that the authentication request was made against. `admin` is the authentication source for SCRAM-SHA users and `$external` for LDAP users.\\n\\n</td>\\n</tr>\\n<tr>\\n<td headers=\"Field\">\\nAuthentication Result\\n\\n</td>\\n<td headers=\"Description\">\\nThe success or failure of the authentication request. A reason code is displayed for the failed authentication requests.\\n\\n</td>\\n</tr>\\n</table>Authentication requests are pre-sorted by descending timestamp with 25 entries per page.\\n\\n### Logging Limitations\\n\\nIf a cluster experiences an activity spike and generates an extremely large quantity of log messages, Atlas may stop collecting and storing new logs for a period of time.\\n\\nLog analysis rate limits apply only to the Performance Advisor UI, the Query Insights UI, the Access Tracking UI, and the Atlas Search Query Analytics UI. Downloadable log files are always complete.\\n\\nIf authentication requests occur during a period when logs are not collected, they will not appear in the database access history.\\n\\n## Required Access\\n\\nTo view database access history, you must have `Project Owner` or `Organization Owner` access to Atlas.\\n\\n## Procedure\\n\\n<Tabs>\\n\\n<Tab name=\"Atlas CLI\">\\n\\nTo return the access logs for a cluster using the Atlas CLI, run the following command:\\n\\n```sh\\n\\natlas accessLogs list [options]\\n\\n```\\n\\nTo learn more about the command syntax and parameters, see the Atlas CLI documentation for atlas accessLogs list.\\n\\n- Install the Atlas CLI\\n\\n- Connect to the Atlas CLI\\n\\n</Tab>\\n\\n<Tab name=\"Atlas Administration API\">\\n\\nTo view the database access history using the API, see Access Tracking.\\n\\n</Tab>\\n\\n<Tab name=\"Atlas UI\">\\n\\nUse the following procedure to view your database access history using the Atlas UI:\\n\\n### Navigate to the Clusters page for your project.\\n\\n- If it is not already displayed, select the organization that contains your desired project from the  Organizations menu in the navigation bar.\\n\\n- If it is not already displayed, select your desired project from the Projects menu in the navigation bar.\\n\\n- If the Clusters page is not already displayed, click Database in the sidebar.\\n\\n### View the cluster\\'s database access history.\\n\\n- On the cluster card, click .\\n\\n- Select View Database Access History.\\n\\nor\\n\\n- Click the cluster name.\\n\\n- Click .\\n\\n- Select View Database Access History.\\n\\n</Tab>\\n\\n</Tabs>\\n\\n')"
            ]
          },
          "metadata": {},
          "execution_count": 93
        }
      ],
      "source": [
        "docs[0]"
      ]
    },
    {
      "cell_type": "code",
      "execution_count": null,
      "metadata": {
        "id": "cWJcGx21b5oB",
        "outputId": "e242c247-b771-4cfc-acd0-e68af7939dd8",
        "colab": {
          "base_uri": "https://localhost:8080/"
        }
      },
      "outputs": [
        {
          "output_type": "execute_result",
          "data": {
            "text/plain": [
              "500"
            ]
          },
          "metadata": {},
          "execution_count": 94
        }
      ],
      "source": [
        "len(docs)"
      ]
    },
    {
      "cell_type": "markdown",
      "metadata": {
        "id": "_fGqylbHb5oB"
      },
      "source": [
        "## Step 5: Instantiate the retriever"
      ]
    },
    {
      "cell_type": "code",
      "execution_count": null,
      "metadata": {
        "id": "yp4ejIQwb5oB"
      },
      "outputs": [],
      "source": [
        "from langchain_mongodb.retrievers import (\n",
        "    MongoDBAtlasParentDocumentRetriever,\n",
        ")\n",
        "from langchain_openai import OpenAIEmbeddings\n",
        "from langchain_text_splitters import RecursiveCharacterTextSplitter"
      ]
    },
    {
      "cell_type": "code",
      "execution_count": null,
      "metadata": {
        "id": "WGCDxqDfb5oB"
      },
      "outputs": [],
      "source": [
        "embedding_model = OpenAIEmbeddings(model=\"text-embedding-3-small\")"
      ]
    },
    {
      "cell_type": "code",
      "execution_count": null,
      "metadata": {
        "id": "-Q5OrIHzb5oC"
      },
      "outputs": [],
      "source": [
        "DB_NAME = \"langchain\"\n",
        "COLLECTION_NAME = \"parent_doc\""
      ]
    },
    {
      "cell_type": "code",
      "execution_count": null,
      "metadata": {
        "id": "L7bS6ouGb5oC"
      },
      "outputs": [],
      "source": [
        "def get_splitter(chunk_size: int) -> RecursiveCharacterTextSplitter:\n",
        "    \"\"\"\n",
        "    Returns a token-based text splitter with overlap\n",
        "\n",
        "    Args:\n",
        "        chunk_size (_type_): Chunk size in number of tokens\n",
        "\n",
        "    Returns:\n",
        "        RecursiveCharacterTextSplitter: Recursive text splitter object\n",
        "    \"\"\"\n",
        "    return RecursiveCharacterTextSplitter.from_tiktoken_encoder(\n",
        "        encoding_name=\"cl100k_base\",\n",
        "        chunk_size=chunk_size,\n",
        "        chunk_overlap=0.15 * chunk_size,\n",
        "    )"
      ]
    },
    {
      "cell_type": "markdown",
      "metadata": {
        "id": "wA4s4GUxb5oC"
      },
      "source": [
        "### Parent document retriever"
      ]
    },
    {
      "cell_type": "code",
      "execution_count": null,
      "metadata": {
        "id": "ktPeHbejb5oC"
      },
      "outputs": [],
      "source": [
        "parent_doc_retriever = MongoDBAtlasParentDocumentRetriever.from_connection_string(\n",
        "    connection_string=MONGODB_URI,\n",
        "    embedding_model=embedding_model,\n",
        "    child_splitter=get_splitter(200),\n",
        "    database_name=DB_NAME,\n",
        "    collection_name=COLLECTION_NAME,\n",
        "    text_key=\"page_content\",\n",
        "    search_kwargs={\"k\": 10},\n",
        ")"
      ]
    },
    {
      "cell_type": "code",
      "execution_count": null,
      "metadata": {
        "id": "jNawGxSHb5oC"
      },
      "outputs": [],
      "source": [
        "# Parent chunk retriever\n",
        "parent_chunk_retriever = MongoDBAtlasParentDocumentRetriever.from_connection_string(\n",
        "     connection_string=MONGODB_URI,\n",
        "     embedding_model=embedding_model,\n",
        "     child_splitter=get_splitter(200),\n",
        "     parent_splitter=get_splitter(800),\n",
        "     database_name=DB_NAME,\n",
        "     collection_name=COLLECTION_NAME,\n",
        "     text_key=\"page_content\",\n",
        "     search_kwargs={\"k\": 10},\n",
        " )"
      ]
    },
    {
      "cell_type": "markdown",
      "metadata": {
        "id": "DO53xz9Fb5oC"
      },
      "source": [
        "## Step 6: Ingest documents into MongoDB"
      ]
    },
    {
      "cell_type": "code",
      "execution_count": null,
      "metadata": {
        "id": "Br3SUn0Zb5oC"
      },
      "outputs": [],
      "source": [
        "import asyncio\n",
        "from typing import Generator, List"
      ]
    },
    {
      "cell_type": "code",
      "execution_count": null,
      "metadata": {
        "id": "roGmoABhb5oC"
      },
      "outputs": [],
      "source": [
        "BATCH_SIZE = 256\n",
        "MAX_CONCURRENCY = 4"
      ]
    },
    {
      "cell_type": "code",
      "execution_count": null,
      "metadata": {
        "id": "N2CEyLmgb5oD"
      },
      "outputs": [],
      "source": [
        "async def process_batch(batch: Generator, semaphore: asyncio.Semaphore) -> None:\n",
        "    \"\"\"\n",
        "    Ingest batches of documents into MongoDB\n",
        "\n",
        "    Args:\n",
        "        batch (Generator): Chunk of documents to ingest\n",
        "        semaphore (as): Asyncio semaphore\n",
        "    \"\"\"\n",
        "    async with semaphore:\n",
        "        await parent_doc_retriever.aadd_documents(batch)\n",
        "        print(f\"Processed {len(batch)} documents\")"
      ]
    },
    {
      "cell_type": "code",
      "execution_count": null,
      "metadata": {
        "id": "VySBGG-lb5oD"
      },
      "outputs": [],
      "source": [
        "def get_batches(docs: List[Document], batch_size: int) -> Generator:\n",
        "    \"\"\"\n",
        "    Return batches of documents to ingest into MongoDB\n",
        "\n",
        "    Args:\n",
        "        docs (List[Document]): List of LangChain documents\n",
        "        batch_size (int): Batch size\n",
        "\n",
        "    Yields:\n",
        "        Generator: Batch of documents\n",
        "    \"\"\"\n",
        "    for i in range(0, len(docs), batch_size):\n",
        "        yield docs[i : i + batch_size]"
      ]
    },
    {
      "cell_type": "code",
      "execution_count": null,
      "metadata": {
        "id": "ID23ezR8b5oD"
      },
      "outputs": [],
      "source": [
        "async def process_docs(docs: List[Document]) -> List[None]:\n",
        "    \"\"\"\n",
        "    Asynchronously ingest LangChain documents into MongoDB\n",
        "\n",
        "    Args:\n",
        "        docs (List[Document]): List of LangChain documents\n",
        "\n",
        "    Returns:\n",
        "        List[None]: Results of the task executions\n",
        "    \"\"\"\n",
        "    semaphore = asyncio.Semaphore(MAX_CONCURRENCY)\n",
        "    batches = get_batches(docs, BATCH_SIZE)\n",
        "\n",
        "    tasks = []\n",
        "    for batch in batches:\n",
        "        tasks.append(process_batch(batch, semaphore))\n",
        "    # Gather results from all tasks\n",
        "    results = await asyncio.gather(*tasks)\n",
        "    return results"
      ]
    },
    {
      "cell_type": "code",
      "source": [
        "collection = mongodb_client[DB_NAME][COLLECTION_NAME]\n",
        "# Delete any existing documents from the collection\n",
        "collection.delete_many({})\n",
        "print(\"Deletion complete.\")"
      ],
      "metadata": {
        "id": "12oxz4gMuD-9",
        "outputId": "686c9453-a270-4f12-8c87-ec71f8b4f62b",
        "colab": {
          "base_uri": "https://localhost:8080/"
        }
      },
      "execution_count": null,
      "outputs": [
        {
          "output_type": "stream",
          "name": "stdout",
          "text": [
            "Deletion complete.\n"
          ]
        }
      ]
    },
    {
      "cell_type": "code",
      "execution_count": null,
      "metadata": {
        "id": "LWPu4Qvmb5oD",
        "outputId": "59fee490-c922-4fab-8ed7-7aa6042f49b3",
        "colab": {
          "base_uri": "https://localhost:8080/"
        }
      },
      "outputs": [
        {
          "output_type": "stream",
          "name": "stdout",
          "text": [
            "Deletion complete.\n",
            "Processed 244 documents\n",
            "Processed 256 documents\n"
          ]
        }
      ],
      "source": [
        "collection = mongodb_client[DB_NAME][COLLECTION_NAME]\n",
        "# Delete any existing documents from the collection\n",
        "collection.delete_many({})\n",
        "print(\"Deletion complete.\")\n",
        "# Ingest LangChain documents into MongoDB\n",
        "results = await process_docs(docs)"
      ]
    },
    {
      "cell_type": "markdown",
      "metadata": {
        "id": "hQC5XBVgb5oD"
      },
      "source": [
        "## Step 7: Create a vector search index"
      ]
    },
    {
      "cell_type": "code",
      "execution_count": null,
      "metadata": {
        "id": "OL8-WCNlb5oD"
      },
      "outputs": [],
      "source": [
        "from pymongo.errors import OperationFailure\n",
        "from pymongo.operations import SearchIndexModel"
      ]
    },
    {
      "cell_type": "code",
      "execution_count": null,
      "metadata": {
        "id": "T8QbldwXb5oD"
      },
      "outputs": [],
      "source": [
        "VS_INDEX_NAME = \"vector_index\""
      ]
    },
    {
      "cell_type": "code",
      "execution_count": null,
      "metadata": {
        "id": "N48lkiVsb5oD"
      },
      "outputs": [],
      "source": [
        "# Vector search index definition\n",
        "model = SearchIndexModel(\n",
        "    definition={\n",
        "        \"fields\": [\n",
        "            {\n",
        "                \"type\": \"vector\",\n",
        "                \"path\": \"embedding\",\n",
        "                \"numDimensions\": 1536,\n",
        "                \"similarity\": \"cosine\",\n",
        "            }\n",
        "        ]\n",
        "    },\n",
        "    name=VS_INDEX_NAME,\n",
        "    type=\"vectorSearch\",\n",
        ")"
      ]
    },
    {
      "cell_type": "code",
      "execution_count": null,
      "metadata": {
        "id": "8n4A8tAWb5oD",
        "outputId": "8e9ad056-a8c0-4b2c-ba12-f9e6685c0843",
        "colab": {
          "base_uri": "https://localhost:8080/"
        }
      },
      "outputs": [
        {
          "output_type": "stream",
          "name": "stdout",
          "text": [
            "Successfully created index vector_index for collection parent_doc\n"
          ]
        }
      ],
      "source": [
        "# Check if the index already exists, if not create it\n",
        "try:\n",
        "    collection.create_search_index(model=model)\n",
        "    print(\n",
        "        f\"Successfully created index {VS_INDEX_NAME} for collection {COLLECTION_NAME}\"\n",
        "    )\n",
        "except OperationFailure:\n",
        "    print(\n",
        "        f\"Duplicate index {VS_INDEX_NAME} found for collection {COLLECTION_NAME}. Skipping index creation.\"\n",
        "    )"
      ]
    },
    {
      "cell_type": "markdown",
      "metadata": {
        "id": "-jhIE3hPb5oD"
      },
      "source": [
        "## Step 8: Usage"
      ]
    },
    {
      "cell_type": "markdown",
      "metadata": {
        "id": "y9bk5G9nb5oG"
      },
      "source": [
        "### In a RAG application"
      ]
    },
    {
      "cell_type": "code",
      "execution_count": null,
      "metadata": {
        "id": "xLOsfkSEb5oG"
      },
      "outputs": [],
      "source": [
        "from langchain_core.output_parsers import StrOutputParser\n",
        "from langchain_core.prompts import ChatPromptTemplate\n",
        "from langchain_core.runnables import RunnablePassthrough\n",
        "from langchain_openai import ChatOpenAI"
      ]
    },
    {
      "cell_type": "code",
      "execution_count": null,
      "metadata": {
        "id": "xQTmx_9Gb5oG"
      },
      "outputs": [],
      "source": [
        "# Retrieve and parse documents\n",
        "retrieve = {\n",
        "    \"context\": parent_doc_retriever\n",
        "    | (lambda docs: \"\\n\\n\".join([d.page_content for d in docs])),\n",
        "    \"question\": RunnablePassthrough(),\n",
        "}\n",
        "template = \"\"\"Answer the question based only on the following context. If no context is provided, respond with I DON't KNOW: \\\n",
        "{context}\n",
        "\n",
        "Question: {question}\n",
        "\"\"\"\n",
        "# Define the chat prompt\n",
        "prompt = ChatPromptTemplate.from_template(template)\n",
        "# Define the model to be used for chat completion\n",
        "llm = ChatOpenAI(temperature=0, model=\"gpt-4o-2024-11-20\")\n",
        "# Parse output as a string\n",
        "parse_output = StrOutputParser()\n",
        "# Naive RAG chain\n",
        "rag_chain = retrieve | prompt | llm | parse_output"
      ]
    },
    {
      "cell_type": "code",
      "execution_count": null,
      "metadata": {
        "id": "Fv5q5SyAb5oG",
        "outputId": "368c3ac8-11b8-40e5-f062-0c9811cfcf5a",
        "colab": {
          "base_uri": "https://localhost:8080/"
        }
      },
      "outputs": [
        {
          "output_type": "stream",
          "name": "stdout",
          "text": [
            "To improve slow queries in MongoDB, you can use the following tools and best practices:\n",
            "\n",
            "### Tools:\n",
            "1. **Performance Advisor**:\n",
            "   - Monitors slow queries and suggests new indexes to improve query performance.\n",
            "   - Provides recommendations for index ranking and dropping unused indexes.\n",
            "\n",
            "2. **Namespace Insights**:\n",
            "   - Monitors collection-level query latency and provides query latency metrics and statistics.\n",
            "\n",
            "3. **Query Profiler**:\n",
            "   - Displays slow-running operations and their key performance statistics.\n",
            "   - Allows exploration of a sample of historical queries for up to the last 24 hours.\n",
            "\n",
            "4. **Real-Time Performance Panel (RTPP)**:\n",
            "   - Identifies relevant database operations, evaluates query execution times, and shows the ratio of documents scanned to documents returned during query execution.\n",
            "\n",
            "### Best Practices:\n",
            "1. Create queries that are supported by your current indexes to reduce search time.\n",
            "2. Avoid creating documents with large array fields that require extensive processing.\n",
            "3. Optimize indexes by:\n",
            "   - Removing unused or inefficient indexes.\n",
            "   - Considering suggested indexes from the Performance Advisor with high Impact scores and low Average Query Targeting scores.\n",
            "4. Perform rolling index builds to minimize performance impact on replica sets and sharded clusters.\n",
            "5. Drop unused, redundant, or hidden indexes to improve write performance and free storage space.\n",
            "\n",
            "By using these tools and following these best practices, you can analyze and optimize slow queries in MongoDB.\n"
          ]
        }
      ],
      "source": [
        "# Test the RAG chain\n",
        "print(rag_chain.invoke(\"How do I improve slow queries in MongoDB?\"))"
      ]
    },
    {
      "cell_type": "markdown",
      "metadata": {
        "id": "dqy3NKJOb5oG"
      },
      "source": [
        "### In an AI agent"
      ]
    },
    {
      "cell_type": "code",
      "execution_count": null,
      "metadata": {
        "id": "aSs19L5xb5oG"
      },
      "outputs": [],
      "source": [
        "from typing import Annotated, Dict\n",
        "\n",
        "from langchain.agents import tool\n",
        "from langchain_core.prompts import ChatPromptTemplate, MessagesPlaceholder\n",
        "from langgraph.graph import END, START, StateGraph\n",
        "from langgraph.graph.message import add_messages\n",
        "from langgraph.prebuilt import ToolNode, tools_condition\n",
        "from typing_extensions import TypedDict"
      ]
    },
    {
      "cell_type": "code",
      "execution_count": null,
      "metadata": {
        "id": "sCFaaFSwb5oH"
      },
      "outputs": [],
      "source": [
        "# Converting the retriever into an agent tool\n",
        "@tool\n",
        "def get_info_about_mongodb(user_query: str) -> str:\n",
        "    \"\"\"\n",
        "    Retrieve information about MongoDB.\n",
        "\n",
        "    Args:\n",
        "    user_query (str): The user's query string.\n",
        "\n",
        "    Returns:\n",
        "    str: The retrieved information formatted as a string.\n",
        "    \"\"\"\n",
        "    docs = parent_doc_retriever.invoke(user_query)\n",
        "    context = \"\\n\\n\".join([d.page_content for d in docs])\n",
        "    return context"
      ]
    },
    {
      "cell_type": "code",
      "execution_count": null,
      "metadata": {
        "id": "13eVbz7mb5oH"
      },
      "outputs": [],
      "source": [
        "tools = [get_info_about_mongodb]"
      ]
    },
    {
      "cell_type": "code",
      "execution_count": null,
      "metadata": {
        "id": "eRLnJpsBb5oH"
      },
      "outputs": [],
      "source": [
        "# Define the LLM to use as the brain of the agent\n",
        "llm = ChatOpenAI(temperature=0, model=\"gpt-4o-2024-11-20\")\n",
        "# Agent prompt\n",
        "prompt = ChatPromptTemplate.from_messages(\n",
        "    [\n",
        "        (\n",
        "            \"You are a helpful AI assistant.\"\n",
        "            \" You are provided with tools to answer questions about MongoDB.\"\n",
        "            \" Think step-by-step and use these tools to get the information required to answer the user query.\"\n",
        "            \" Do not re-run tools unless absolutely necessary.\"\n",
        "            \" If you are not able to get enough information using the tools, reply with I DON'T KNOW.\"\n",
        "            \" You have access to the following tools: {tool_names}.\"\n",
        "        ),\n",
        "        MessagesPlaceholder(variable_name=\"messages\"),\n",
        "    ]\n",
        ")\n",
        "# Partial the prompt with tool names\n",
        "prompt = prompt.partial(tool_names=\", \".join([tool.name for tool in tools]))\n",
        "# Bind tools to LLM\n",
        "llm_with_tools = prompt | llm.bind_tools(tools)"
      ]
    },
    {
      "cell_type": "code",
      "execution_count": null,
      "metadata": {
        "id": "bI5Zjf35b5oH"
      },
      "outputs": [],
      "source": [
        "# Define graph state\n",
        "class GraphState(TypedDict):\n",
        "    messages: Annotated[list, add_messages]"
      ]
    },
    {
      "cell_type": "code",
      "execution_count": null,
      "metadata": {
        "id": "Mar_WqtCb5oH"
      },
      "outputs": [],
      "source": [
        "def agent(state: GraphState) -> Dict[str, List]:\n",
        "    \"\"\"\n",
        "    Agent node\n",
        "\n",
        "    Args:\n",
        "        state (GraphState): Graph state\n",
        "\n",
        "    Returns:\n",
        "        Dict[str, List]: Updates to the graph state\n",
        "    \"\"\"\n",
        "    messages = state[\"messages\"]\n",
        "    response = llm_with_tools.invoke(messages)\n",
        "    # We return a list, because this will get added to the existing list\n",
        "    return {\"messages\": [response]}"
      ]
    },
    {
      "cell_type": "code",
      "execution_count": null,
      "metadata": {
        "id": "KFoQ6L28b5oH"
      },
      "outputs": [],
      "source": [
        "# Convert tools into a graph node\n",
        "tool_node = ToolNode(tools)"
      ]
    },
    {
      "cell_type": "code",
      "execution_count": null,
      "metadata": {
        "id": "uQgfy7kpb5oH"
      },
      "outputs": [],
      "source": [
        "# Parameterize the graph with the state\n",
        "graph = StateGraph(GraphState)\n",
        "# Add graph nodes\n",
        "graph.add_node(\"agent\", agent)\n",
        "graph.add_node(\"tools\", tool_node)\n",
        "# Add graph edges\n",
        "graph.add_edge(START, \"agent\")\n",
        "graph.add_edge(\"tools\", \"agent\")\n",
        "graph.add_conditional_edges(\n",
        "    \"agent\",\n",
        "    tools_condition,\n",
        "    {\"tools\": \"tools\", END: END},\n",
        ")\n",
        "# Compile the graph\n",
        "app = graph.compile()"
      ]
    },
    {
      "cell_type": "code",
      "execution_count": null,
      "metadata": {
        "id": "opdBynDGb5oH",
        "outputId": "07db5789-8db2-4ade-eba4-17b0200d8d31",
        "colab": {
          "base_uri": "https://localhost:8080/"
        }
      },
      "outputs": [
        {
          "output_type": "stream",
          "name": "stdout",
          "text": [
            "Node agent:\n",
            "{'messages': [AIMessage(content='', additional_kwargs={'tool_calls': [{'id': 'call_TXveSn3gsgMOJc3sHCuq1Xj2', 'function': {'arguments': '{\"user_query\":\"How do I improve slow queries in MongoDB?\"}', 'name': 'get_info_about_mongodb'}, 'type': 'function'}], 'refusal': None}, response_metadata={'token_usage': {'completion_tokens': 28, 'prompt_tokens': 165, 'total_tokens': 193, 'completion_tokens_details': {'accepted_prediction_tokens': 0, 'audio_tokens': 0, 'reasoning_tokens': 0, 'rejected_prediction_tokens': 0}, 'prompt_tokens_details': {'audio_tokens': 0, 'cached_tokens': 0}}, 'model_name': 'gpt-4o-2024-11-20', 'system_fingerprint': 'fp_ec7eab8ec3', 'finish_reason': 'tool_calls', 'logprobs': None}, id='run-b041acdf-2c87-4977-888e-0a8ebd4b7600-0', tool_calls=[{'name': 'get_info_about_mongodb', 'args': {'user_query': 'How do I improve slow queries in MongoDB?'}, 'id': 'call_TXveSn3gsgMOJc3sHCuq1Xj2', 'type': 'tool_call'}], usage_metadata={'input_tokens': 165, 'output_tokens': 28, 'total_tokens': 193, 'input_token_details': {'audio': 0, 'cache_read': 0}, 'output_token_details': {'audio': 0, 'reasoning': 0}})]}\n",
            "Node tools:\n",
            "{'messages': [ToolMessage(content='# Analyze Slow Queries\\n\\nAtlas provides several tools to help analyze slow queries executed on your clusters. See the following sections for descriptions of each tool. To optimize your query performance, review the best practices for query performance.\\n\\n## Performance Advisor\\n\\nThe Performance Advisor monitors queries that MongoDB considers slow and suggests new indexes to improve query performance.\\n\\nYou can use the Performance Advisor to review the following information:\\n\\n- Index Ranking\\n\\n- Drop Index Recommendations\\n\\n## Namespace Insights\\n\\nMonitor collection-level query latency with Namespace Insights. You can view query latency metrics and statistics for certain hosts and operation types. Manage pinned namespaces and choose up to five namespaces to show in the corresponding query latency charts.\\n\\n## Query Profiler\\n\\nThe Query Profiler displays slow-running operations and their key performance statistics. You can explore a sample of historical queries for up to the last 24 hours without additional cost or performance overhead. Before you enable the Query Profiler, see Considerations.\\n\\n## Real-Time Performance Panel (RTPP)\\n\\nThe Real-Time Performance Panel identifies relevant database operations, evaluates query execution times, and shows the ratio of documents scanned to documents returned during query execution. RTPP (Real-Time Performance Panel) is enabled by default.\\n\\nTo enable or disable Real-Time Performance Panel for a project, you must have the `Project Owner` role for the project.\\n\\n## Best Practices for Query Performance\\n\\nTo optimize query performance, review the following best practices:\\n\\n- Create queries that your current indexes support to reduce the time needed to search for your results.\\n\\n- Avoid creating documents with large array fields that require a lot of processing to search and index.\\n\\n- Optimize your indexes and remove unused or inefficent indexes. Too many indexes can negatively impact write performance.\\n\\n- Consider the suggested indexes from the Performance Advisor with the highest Impact scores and lowest Average Query Targeting scores.\\n\\n- Create the indexes that the Performance Advisor suggests when they align with your Indexing Strategies.\\n\\n- The Performance Advisor cannot suggest indexes for MongoDB databases configured to use the ctime timestamp format. As a workaround, set the timestamp format for such databases to either iso8601-utc or iso8601-local.\\n\\n- Perform rolling index builds to reduce the performance impact of building indexes on replica sets and sharded clusters.\\n\\n- Drop unused, redundant, and hidden indexes to improve write performance and free storage space.\\n\\n\\n\\n# Retrieve Federated Database Instance Query History\\n\\n`$queryHistory`You can retrieve details about the queries that were run in the past 7 days using `$queryHistory` (aggregation). `$queryHistory` returns documents, one per query, that contain information about the aggregate, find, and count queries that were run in the past 7 days. You can filter on the fields returned by `$queryHistory` in subsequent pipeline stages such as `$match`.\\n\\nTo run `$queryHistory`, use the db.aggregate helper. Run `$queryHistory` against the `admin` database.\\n\\n## Syntax\\n\\n```json\\n{\\n        $queryHistory: {\\n          allUsers: <boolean>\\n        }\\n}\\n```\\n\\n## Fields\\n\\n<table>\\n<tr>\\n<th id=\"Field\">\\nField\\n\\n</th>\\n<th id=\"Type\">\\nType\\n\\n</th>\\n<th id=\"Description\">\\nDescription\\n\\n</th>\\n<th id=\"Necessity\">\\nNecessity\\n\\n</th>\\n</tr>\\n<tr>\\n<td headers=\"Field\">\\n`allUsers`\\n\\n</td>\\n<td headers=\"Type\">\\nboolean\\n\\n</td>\\n<td headers=\"Description\">\\nIndicates whether or not to fetch documents for queries run by all users. Valid values are:\\n\\n- `true` to fetch documents for queries run by all users\\n\\n- `false` to fetch documents for queries run by the current user only\\n\\nYou must have the `viewAllHistory` privilege on the cluster resource to use this option. If you specify this option, but do not have `viewAllHistory` privilege on the cluster resource, Data Federation returns an error.\\n\\nIf omitted, defaults to `false`.\\n\\n</td>\\n<td headers=\"Necessity\">\\nOptional\\n\\n</td>\\n</tr>\\n</table>\\n\\n## Output\\n\\nEach document returned by `$queryHistory` contains the following fields:\\n\\n<table>\\n<tr>\\n<th id=\"Field\">\\nField\\n\\n</th>\\n<th id=\"Type\">\\nType\\n\\n</th>\\n<th id=\"Description\">\\nDescription\\n\\n</th>\\n</tr>\\n<tr>\\n<td headers=\"Field\">\\n`appName`\\n\\n</td>\\n<td headers=\"Type\">\\nstring\\n\\n</td>\\n<td headers=\"Description\">\\nName of the application that issued the query, if available.\\n\\n</td>\\n</tr>\\n<tr>\\n<td headers=\"Field\">\\n`background`\\n\\n</td>\\n<td headers=\"Type\">\\nboolean\\n\\n</td>\\n<td headers=\"Description\">\\nFlag that indicates whether the query ran in the background. Value can be one of the following:\\n\\n- `true` - if the query ran with the `background` option set to `true`\\n\\n- `false` - if the query didn\\'t specify the `background` option or if the query ran with the `background` option set to `false`\\n\\n</td>\\n</tr>\\n<tr>\\n<td headers=\"Field\">\\n`collection`\\n\\n</td>\\n<td headers=\"Type\">\\nstring\\n\\n</td>\\n<td headers=\"Description\">\\nName of the collection on which the query was executed.\\n\\n</td>\\n</tr>\\n<tr>\\n<td headers=\"Field\">\\n`comment`\\n\\n</td>\\n<td headers=\"Type\">\\nstring\\n\\n</td>\\n<td headers=\"Description\">\\nComment associated with the query, if available. Empty if the query did not include any comment.\\n\\n</td>\\n</tr>\\n<tr>\\n<td headers=\"Field\">\\n`db`\\n\\n</td>\\n<td headers=\"Type\">\\nstring\\n\\n</td>\\n<td headers=\"Description\">\\nName of the database that contains the collection on which the query was executed.\\n\\n</td>\\n</tr>\\n<tr>\\n<td headers=\"Field\">\\n`endTime`\\n\\n</td>\\n<td headers=\"Type\">\\nISODate\\n\\n</td>\\n<td headers=\"Description\">\\nQuery completion time.\\n\\n</td>\\n</tr>\\n<tr>\\n<td headers=\"Field\">\\n`error`\\n\\n</td>\\n<td headers=\"Type\">\\nstring\\n\\n</td>\\n<td headers=\"Description\">\\nError, if any, returned by the query. Note that the query status `0` indicates errors. Empty string if query ran successfully.\\n\\n</td>\\n</tr>\\n<tr>\\n<td headers=\"Field\">\\n`queryFilterComments`\\n\\n</td>\\n<td headers=\"Type\">\\narray of any BSON type\\n\\n</td>\\n<td headers=\"Description\">\\nComment values included with the `$comment` operator inside the query pipeline. Omitted if the query didn\\'t include the `$comment` operator.\\n\\nThe $comment operator value can be any valid BSON type.\\n\\n</td>\\n</tr>\\n<tr>\\n<td headers=\"Field\">\\n`ok`\\n\\n</td>\\n<td headers=\"Type\">\\nint\\n\\n</td>\\n<td headers=\"Description\">\\nStatus of the query. Value can be one of the following:\\n\\n- `1`, if query ran successfully\\n\\n- `0`, if there were errors when executing the query\\n\\n</td>\\n</tr>\\n<tr>\\n<td headers=\"Field\">\\n`opid`\\n\\n</td>\\n<td headers=\"Type\">\\nObjectId\\n\\n</td>\\n<td headers=\"Description\">\\nUnique identifier of the operation associated with the query in the ObjectId format. The field value is the same as the `correlationID` that you can see in errors and logs.\\n\\n</td>\\n</tr>\\n<tr>\\n<td headers=\"Field\">\\n`startTime`\\n\\n</td>\\n<td headers=\"Type\">\\nISODate\\n\\n</td>\\n<td headers=\"Description\">\\nQuery start time.\\n\\n</td>\\n</tr>\\n<tr>\\n<td headers=\"Field\">\\n`query`\\n\\n</td>\\n<td headers=\"Type\">\\ndocument\\n\\n</td>\\n<td headers=\"Description\">\\nQuery operation that was run.\\n\\n</td>\\n</tr>\\n<tr>\\n<td headers=\"Field\">\\n`user`\\n\\n</td>\\n<td headers=\"Type\">\\nstring\\n\\n</td>\\n<td headers=\"Description\">\\nUsername of the user who ran the query, if available, in the following format: `<authenticationDatabase>.<username>`. Note that the authentication database for Atlas Data Federation is always `admin`. If the username of the user who ran the query is not available, value is empty.\\n\\n</td>\\n</tr>\\n</table>\\n\\n## Examples\\n\\nThe examples below use the `Database0.Collection0` collection described in the Get Started tutorial.\\n\\n### Retrieve Details About the Queries\\n\\nFor the example below, suppose some of the queries described in the Getting Started tutorial were run by `user1` on the `Collection0` collection in the `Database0` database. The following example returns information on the queries that were run by `user1` on the `Database0.Collection0` collection.\\n\\n```shell\\ndb.aggregate([{$queryHistory: {}}]).pretty()\\n```\\n\\n`$queryHistory` returns one document for each query that ran on the `Database0.Collection0` collection.\\n\\n```json\\n{\\n        \"_id\" : ObjectId(\"613fa06cf9521f85777d5be8\"),\\n        \"query\" : [\\n                {\\n                        \"$match\" : {\\n                                \"bedrooms\" : 3,\\n                                \"review_scores.review_scores_rating\" : {\\n                                        \"$gt\" : 79\\n                                }\\n                        }\\n                },\\n                {\\n                        \"$count\" : \"numProperties\"\\n                }\\n        ],\\n        \"appName\" : \"MongoDB Shell\",\\n        \"user\" : \"admin.user1\",\\n        \"db\" : \"Database0\",\\n        \"collection\" : \"Collection0\",\\n        \"opid\" : ObjectId(\"16a476f40ac6d97f22e4aa1f\"),\\n        \"startTime\" : ISODate(\"2021-09-13T19:02:35.589Z\"),\\n        \"endTime\" : ISODate(\"2021-09-13T19:03:08.730Z\"),\\n        \"ok\" : 1,\\n        \"background\" : false\\n}\\n{\\n        \"_id\" : ObjectId(\"613fa0d4f9521f85777d6bc0\"),\\n        \"query\" : [\\n                {\\n                        \"$match\" : {\\n                                \"bedrooms\" : 3\\n                        }\\n                },\\n                {\\n                        \"$sort\" : {\\n                                \"review_scores_rating\" : -1\\n                        }\\n                },\\n                {\\n                        \"$limit\" : NumberLong(5)\\n                }\\n        ],\\n        \"appName\" : \"MongoDB Shell\",\\n        \"user\" : \"admin.user1\",\\n        \"db\" : \"Database0\",\\n        \"collection\" : \"Collection0\",\\n        \"opid\" : ObjectId(\"16a4770e387f300c22e4bdf2\"),\\n        \"startTime\" : ISODate(\"2021-09-13T19:04:28.184Z\"),\\n        \"endTime\" : ISODate(\"2021-09-13T19:04:52.898Z\"),\\n        \"ok\" : 1,\\n        \"background\" : false\\n}\\n{\\n        \"_id\" : ObjectId(\"613fa0eef9521f85777d6f6f\"),\\n        \"query\" : [\\n                {\\n                        \"$match\" : {\\n                                \"limit\" : {\\n                                        \"$eq\" : 10000\\n                                },\\n                                \"products\" : \"Commodity\"\\n                        }\\n                },\\n                {\\n                        \"$limit\" : NumberLong(5)\\n                }\\n        ],\\n        \"appName\" : \"MongoDB Shell\",\\n        \"user\" : \"admin.user1\",\\n        \"db\" : \"Database0\",\\n        \"collection\" : \"Collection0\",\\n        \"opid\" : ObjectId(\"16a477163555e4aa22e4c53b\"),\\n        \"startTime\" : ISODate(\"2021-09-13T19:05:02.342Z\"),\\n        \"endTime\" : ISODate(\"2021-09-13T19:05:18.774Z\"),\\n        \"ok\" : 1,\\n        \"background\" : false\\n}\\n{\\n        \"_id\" : ObjectId(\"613fa147f9521f85777d7b11\"),\\n        \"query\" : [\\n                {\\n                        \"$match\" : {\\n                                \"name\" : /Lannister/\\n                        }\\n                },\\n                {\\n                        \"$limit\" : NumberLong(10)\\n                }\\n        ],\\n        \"appName\" : \"MongoDB Shell\",\\n        \"user\" : \"admin.user1\",\\n        \"db\" : \"Database0\",\\n        \"collection\" : \"Collection0\",\\n        \"opid\" : ObjectId(\"16a4771ba072c0a122e4c9bd\"),\\n        \"startTime\" : ISODate(\"2021-09-13T19:05:25.736Z\"),\\n        \"endTime\" : ISODate(\"2021-09-13T19:06:47.147Z\"),\\n        \"ok\" : 1,\\n        \"background\" : false\\n}\\n{\\n        \"_id\" : ObjectId(\"613fb9eccaba4e6430c7dcb7\"),\\n        \"query\" : [\\n                {\\n                        \"$group\" : {\\n                                \"_id\" : \"$movies\",\\n                                \"Collection0\" : {\\n                                        \"$push\" : \"$title\"\\n                                }\\n                        }\\n                },\\n                {\\n                        \"$out\" : {\\n                                \"atlas\" : {\\n                                        \"projectId\" : \"{PROJECT_ID}\",\\n                                        \"clusterName\" : \"mySbx\",\\n                                        \"db\" : \"my_test\",\\n                                        \"coll\" : \"sample\"\\n                                }\\n                        }\\n                }\\n        ],\\n        \"appName\" : \"MongoDB Shell\",\\n        \"user\" : \"admin.user1\",\\n        \"db\" : \"admin\",\\n        \"collection\" : \"Collection0\",\\n        \"opid\" : ObjectId(\"16a47ceba943e9cc00c98c62\"),\\n        \"startTime\" : ISODate(\"2021-09-13T20:51:56.617Z\"),\\n        \"endTime\" : ISODate(\"2021-09-13T20:51:56.642Z\"),\\n        \"ok\" : 1,\\n        \"background\" : true\\n}\\n```\\n\\n### Filter `$queryHistory` Output for Specific Queries\\n\\nFor the example below, suppose a query similar to the following is run against the `Database0.Collection0` collection described in the Getting Started tutorial. The query includes unique strings to help identify the query in the results returned by the `$queryHistory` stage. You can attach a comment to a query using the aggregate command `comment` option or the $comment operator. This example uses both ways to attach the unique strings with the query.\\n\\n```shell\\nuse Database0\\ndb.Collection0.aggregate([ { $match: {\"account_id\": 557378, \"$comment\": \"test\"}},{$sort: {\"transactions.symbol\": -1}} ],{\"comment\":\"exampleQuery\"})\\n```\\n\\n<Tabs>\\n\\n<Tab name=\"comment Option Example\">\\n\\nTo retrieve the query history using the string value of the `comment` option of the aggregate command, run the following commands against the `admin` database:\\n\\n```json\\nuse admin\\ndb.aggregate([{$queryHistory: {}}, {$match: {\"comment\": \"exampleQuery\"}} ])\\n```\\n\\n</Tab>\\n\\n<Tab name=\"$comment Operator Example\">\\n\\nYou can provide any valid BSON type as the value for the $comment operator.\\n\\nTo retrieve the query history using the string value of the `$comment` operator in the `$match` query, run the following commands against the `admin` database.\\n\\n```json\\nuse admin\\ndb.aggregate([{$queryHistory: {}}, {$match:\\n{queryFilterComments: \"test\"}}])\\n```\\n\\n</Tab>\\n\\n</Tabs>\\n\\n`$queryHistory` finds the query that included the specified string and returns results similar to the following:\\n\\n```json\\n[\\n  {\\n    \"_id\": ObjectId(\"61e1e4c29e62172566d8e9b6\"),\\n    \"query\": [\\n      { \"$match\": { \"account_id\": 557378, \"$comment\": \"test\" } },\\n      { \"$sort\": { \"transactions.symbol\": -1 } }\\n    ],\\n    \"comment\": \"exampleQuery\",\\n    \"appName\": \"mongosh 1.1.8\",\\n    \"user\": \"admin.user1\",\\n    \"db\": \"Database0\",\\n    \"collection\": \"Collection0\",\\n    \"opid\": ObjectId(\"16ca3ed2577016e68d60358c\"),\\n    \"startTime\": ISODate(\"2022-01-14T21:01:27.346Z\"),\\n    \"endTime\": ISODate(\"2022-01-14T21:01:54.627Z\"),\\n    \"ok\": 1,\\n    \"error\": \"\",\\n    \"background\": false,\\n    \"queryFilterComments\": [ \"test\" ]\\n  }\\n]\\n```\\n\\n', name='get_info_about_mongodb', id='f41ee9de-2a33-4b16-afc5-f075a5e0d98d', tool_call_id='call_TXveSn3gsgMOJc3sHCuq1Xj2')]}\n",
            "Node agent:\n",
            "{'messages': [AIMessage(content='To improve slow queries in MongoDB, you can follow these steps and utilize the tools and best practices provided by MongoDB:\\n\\n### Tools for Analyzing and Optimizing Queries:\\n1. **Performance Advisor**:\\n   - Monitors slow queries and suggests new indexes to improve performance.\\n   - Provides recommendations for index ranking and dropping unused indexes.\\n\\n2. **Namespace Insights**:\\n   - Monitors collection-level query latency and provides metrics for specific hosts and operation types.\\n\\n3. **Query Profiler**:\\n   - Displays slow-running operations and their key performance statistics.\\n   - Allows you to explore historical queries for up to 24 hours.\\n\\n4. **Real-Time Performance Panel (RTPP)**:\\n   - Identifies relevant database operations and evaluates query execution times.\\n   - Shows the ratio of documents scanned to documents returned during query execution.\\n\\n5. **Query History**:\\n   - Use the `$queryHistory` aggregation stage to retrieve details about queries executed in the past 7 days.\\n\\n### Best Practices for Query Performance:\\n1. **Index Optimization**:\\n   - Create queries that are supported by existing indexes to reduce search time.\\n   - Optimize indexes by removing unused or inefficient ones.\\n   - Use the Performance Advisor to identify and create suggested indexes with high impact scores.\\n\\n2. **Avoid Large Array Fields**:\\n   - Avoid creating documents with large array fields that require extensive processing.\\n\\n3. **Rolling Index Builds**:\\n   - Perform rolling index builds to minimize performance impact on replica sets and sharded clusters.\\n\\n4. **Drop Unused Indexes**:\\n   - Remove unused, redundant, or hidden indexes to improve write performance and free up storage.\\n\\n5. **Query Design**:\\n   - Design queries to minimize the number of documents scanned.\\n   - Use filters and projections effectively to retrieve only the necessary data.\\n\\n6. **Monitor Query Latency**:\\n   - Use tools like Namespace Insights and RTPP to monitor and analyze query latency.\\n\\nBy leveraging these tools and best practices, you can identify bottlenecks and optimize your queries for better performance in MongoDB.', additional_kwargs={'refusal': None}, response_metadata={'token_usage': {'completion_tokens': 421, 'prompt_tokens': 3662, 'total_tokens': 4083, 'completion_tokens_details': {'accepted_prediction_tokens': 0, 'audio_tokens': 0, 'reasoning_tokens': 0, 'rejected_prediction_tokens': 0}, 'prompt_tokens_details': {'audio_tokens': 0, 'cached_tokens': 0}}, 'model_name': 'gpt-4o-2024-11-20', 'system_fingerprint': 'fp_ec7eab8ec3', 'finish_reason': 'stop', 'logprobs': None}, id='run-2ab76b41-1247-4c74-8b57-f47e518e33e6-0', usage_metadata={'input_tokens': 3662, 'output_tokens': 421, 'total_tokens': 4083, 'input_token_details': {'audio': 0, 'cache_read': 0}, 'output_token_details': {'audio': 0, 'reasoning': 0}})]}\n",
            "---FINAL ANSWER---\n",
            "To improve slow queries in MongoDB, you can follow these steps and utilize the tools and best practices provided by MongoDB:\n",
            "\n",
            "### Tools for Analyzing and Optimizing Queries:\n",
            "1. **Performance Advisor**:\n",
            "   - Monitors slow queries and suggests new indexes to improve performance.\n",
            "   - Provides recommendations for index ranking and dropping unused indexes.\n",
            "\n",
            "2. **Namespace Insights**:\n",
            "   - Monitors collection-level query latency and provides metrics for specific hosts and operation types.\n",
            "\n",
            "3. **Query Profiler**:\n",
            "   - Displays slow-running operations and their key performance statistics.\n",
            "   - Allows you to explore historical queries for up to 24 hours.\n",
            "\n",
            "4. **Real-Time Performance Panel (RTPP)**:\n",
            "   - Identifies relevant database operations and evaluates query execution times.\n",
            "   - Shows the ratio of documents scanned to documents returned during query execution.\n",
            "\n",
            "5. **Query History**:\n",
            "   - Use the `$queryHistory` aggregation stage to retrieve details about queries executed in the past 7 days.\n",
            "\n",
            "### Best Practices for Query Performance:\n",
            "1. **Index Optimization**:\n",
            "   - Create queries that are supported by existing indexes to reduce search time.\n",
            "   - Optimize indexes by removing unused or inefficient ones.\n",
            "   - Use the Performance Advisor to identify and create suggested indexes with high impact scores.\n",
            "\n",
            "2. **Avoid Large Array Fields**:\n",
            "   - Avoid creating documents with large array fields that require extensive processing.\n",
            "\n",
            "3. **Rolling Index Builds**:\n",
            "   - Perform rolling index builds to minimize performance impact on replica sets and sharded clusters.\n",
            "\n",
            "4. **Drop Unused Indexes**:\n",
            "   - Remove unused, redundant, or hidden indexes to improve write performance and free up storage.\n",
            "\n",
            "5. **Query Design**:\n",
            "   - Design queries to minimize the number of documents scanned.\n",
            "   - Use filters and projections effectively to retrieve only the necessary data.\n",
            "\n",
            "6. **Monitor Query Latency**:\n",
            "   - Use tools like Namespace Insights and RTPP to monitor and analyze query latency.\n",
            "\n",
            "By leveraging these tools and best practices, you can identify bottlenecks and optimize your queries for better performance in MongoDB.\n"
          ]
        }
      ],
      "source": [
        "# Execute the agent and view outputs\n",
        "inputs = {\n",
        "    \"messages\": [\n",
        "        (\"user\", \"How do I improve slow queries in MongoDB?\"),\n",
        "    ]\n",
        "}\n",
        "\n",
        "for output in app.stream(inputs):\n",
        "    for key, value in output.items():\n",
        "        print(f\"Node {key}:\")\n",
        "        print(value)\n",
        "print(\"---FINAL ANSWER---\")\n",
        "print(value[\"messages\"][-1].content)"
      ]
    }
  ],
  "metadata": {
    "kernelspec": {
      "display_name": ".venv",
      "language": "python",
      "name": "python3"
    },
    "language_info": {
      "codemirror_mode": {
        "name": "ipython",
        "version": 3
      },
      "file_extension": ".py",
      "mimetype": "text/x-python",
      "name": "python",
      "nbconvert_exporter": "python",
      "pygments_lexer": "ipython3",
      "version": "3.12.1"
    },
    "colab": {
      "provenance": [],
      "toc_visible": true
    }
  },
  "nbformat": 4,
  "nbformat_minor": 0
}